{
 "cells": [
  {
   "cell_type": "markdown",
   "metadata": {},
   "source": [
    "## Importing packages"
   ]
  },
  {
   "cell_type": "code",
   "execution_count": 1,
   "metadata": {},
   "outputs": [],
   "source": [
    "# EDA packages\n",
    "import pandas as pd\n",
    "import numpy as np"
   ]
  },
  {
   "cell_type": "code",
   "execution_count": 2,
   "metadata": {},
   "outputs": [
    {
     "name": "stderr",
     "output_type": "stream",
     "text": [
      "<ipython-input-2-79524902a369>:4: FutureWarning: pandas.util.testing is deprecated. Use the functions in the public API at pandas.testing instead.\n",
      "  import pandas.util.testing as tm\n"
     ]
    }
   ],
   "source": [
    "# Plotting Packages\n",
    "import matplotlib.pyplot as plt\n",
    "import seaborn as sns\n",
    "import pandas.util.testing as tm"
   ]
  },
  {
   "cell_type": "code",
   "execution_count": 3,
   "metadata": {},
   "outputs": [],
   "source": [
    "# ML Packages\n",
    "\n",
    "from sklearn import model_selection\n",
    "from sklearn.metrics import classification_report\n",
    "from sklearn.metrics import confusion_matrix\n",
    "from sklearn.metrics import accuracy_score\n",
    "from sklearn.linear_model import LogisticRegression"
   ]
  },
  {
   "cell_type": "code",
   "execution_count": 4,
   "metadata": {},
   "outputs": [
    {
     "data": {
      "text/html": [
       "<div>\n",
       "<style scoped>\n",
       "    .dataframe tbody tr th:only-of-type {\n",
       "        vertical-align: middle;\n",
       "    }\n",
       "\n",
       "    .dataframe tbody tr th {\n",
       "        vertical-align: top;\n",
       "    }\n",
       "\n",
       "    .dataframe thead th {\n",
       "        text-align: right;\n",
       "    }\n",
       "</style>\n",
       "<table border=\"1\" class=\"dataframe\">\n",
       "  <thead>\n",
       "    <tr style=\"text-align: right;\">\n",
       "      <th></th>\n",
       "      <th>sepal_length</th>\n",
       "      <th>sepal_width</th>\n",
       "      <th>petal_length</th>\n",
       "      <th>petal_width</th>\n",
       "      <th>species</th>\n",
       "    </tr>\n",
       "  </thead>\n",
       "  <tbody>\n",
       "    <tr>\n",
       "      <th>0</th>\n",
       "      <td>5.1</td>\n",
       "      <td>3.5</td>\n",
       "      <td>1.4</td>\n",
       "      <td>0.2</td>\n",
       "      <td>setosa</td>\n",
       "    </tr>\n",
       "    <tr>\n",
       "      <th>1</th>\n",
       "      <td>4.9</td>\n",
       "      <td>3.0</td>\n",
       "      <td>1.4</td>\n",
       "      <td>0.2</td>\n",
       "      <td>setosa</td>\n",
       "    </tr>\n",
       "    <tr>\n",
       "      <th>2</th>\n",
       "      <td>4.7</td>\n",
       "      <td>3.2</td>\n",
       "      <td>1.3</td>\n",
       "      <td>0.2</td>\n",
       "      <td>setosa</td>\n",
       "    </tr>\n",
       "    <tr>\n",
       "      <th>3</th>\n",
       "      <td>4.6</td>\n",
       "      <td>3.1</td>\n",
       "      <td>1.5</td>\n",
       "      <td>0.2</td>\n",
       "      <td>setosa</td>\n",
       "    </tr>\n",
       "    <tr>\n",
       "      <th>4</th>\n",
       "      <td>5.0</td>\n",
       "      <td>3.6</td>\n",
       "      <td>1.4</td>\n",
       "      <td>0.2</td>\n",
       "      <td>setosa</td>\n",
       "    </tr>\n",
       "  </tbody>\n",
       "</table>\n",
       "</div>"
      ],
      "text/plain": [
       "   sepal_length  sepal_width  petal_length  petal_width species\n",
       "0           5.1          3.5           1.4          0.2  setosa\n",
       "1           4.9          3.0           1.4          0.2  setosa\n",
       "2           4.7          3.2           1.3          0.2  setosa\n",
       "3           4.6          3.1           1.5          0.2  setosa\n",
       "4           5.0          3.6           1.4          0.2  setosa"
      ]
     },
     "execution_count": 4,
     "metadata": {},
     "output_type": "execute_result"
    }
   ],
   "source": [
    "# load our dataset\n",
    "df = pd.read_csv(\"iris.csv\")\n",
    "df.head()"
   ]
  },
  {
   "cell_type": "code",
   "execution_count": 5,
   "metadata": {},
   "outputs": [
    {
     "data": {
      "text/html": [
       "<div>\n",
       "<style scoped>\n",
       "    .dataframe tbody tr th:only-of-type {\n",
       "        vertical-align: middle;\n",
       "    }\n",
       "\n",
       "    .dataframe tbody tr th {\n",
       "        vertical-align: top;\n",
       "    }\n",
       "\n",
       "    .dataframe thead th {\n",
       "        text-align: right;\n",
       "    }\n",
       "</style>\n",
       "<table border=\"1\" class=\"dataframe\">\n",
       "  <thead>\n",
       "    <tr style=\"text-align: right;\">\n",
       "      <th></th>\n",
       "      <th>sepal_length</th>\n",
       "      <th>sepal_width</th>\n",
       "      <th>petal_length</th>\n",
       "      <th>petal_width</th>\n",
       "    </tr>\n",
       "  </thead>\n",
       "  <tbody>\n",
       "    <tr>\n",
       "      <th>count</th>\n",
       "      <td>150.000000</td>\n",
       "      <td>150.000000</td>\n",
       "      <td>150.000000</td>\n",
       "      <td>150.000000</td>\n",
       "    </tr>\n",
       "    <tr>\n",
       "      <th>mean</th>\n",
       "      <td>5.843333</td>\n",
       "      <td>3.054000</td>\n",
       "      <td>3.758667</td>\n",
       "      <td>1.198667</td>\n",
       "    </tr>\n",
       "    <tr>\n",
       "      <th>std</th>\n",
       "      <td>0.828066</td>\n",
       "      <td>0.433594</td>\n",
       "      <td>1.764420</td>\n",
       "      <td>0.763161</td>\n",
       "    </tr>\n",
       "    <tr>\n",
       "      <th>min</th>\n",
       "      <td>4.300000</td>\n",
       "      <td>2.000000</td>\n",
       "      <td>1.000000</td>\n",
       "      <td>0.100000</td>\n",
       "    </tr>\n",
       "    <tr>\n",
       "      <th>25%</th>\n",
       "      <td>5.100000</td>\n",
       "      <td>2.800000</td>\n",
       "      <td>1.600000</td>\n",
       "      <td>0.300000</td>\n",
       "    </tr>\n",
       "    <tr>\n",
       "      <th>50%</th>\n",
       "      <td>5.800000</td>\n",
       "      <td>3.000000</td>\n",
       "      <td>4.350000</td>\n",
       "      <td>1.300000</td>\n",
       "    </tr>\n",
       "    <tr>\n",
       "      <th>75%</th>\n",
       "      <td>6.400000</td>\n",
       "      <td>3.300000</td>\n",
       "      <td>5.100000</td>\n",
       "      <td>1.800000</td>\n",
       "    </tr>\n",
       "    <tr>\n",
       "      <th>max</th>\n",
       "      <td>7.900000</td>\n",
       "      <td>4.400000</td>\n",
       "      <td>6.900000</td>\n",
       "      <td>2.500000</td>\n",
       "    </tr>\n",
       "  </tbody>\n",
       "</table>\n",
       "</div>"
      ],
      "text/plain": [
       "       sepal_length  sepal_width  petal_length  petal_width\n",
       "count    150.000000   150.000000    150.000000   150.000000\n",
       "mean       5.843333     3.054000      3.758667     1.198667\n",
       "std        0.828066     0.433594      1.764420     0.763161\n",
       "min        4.300000     2.000000      1.000000     0.100000\n",
       "25%        5.100000     2.800000      1.600000     0.300000\n",
       "50%        5.800000     3.000000      4.350000     1.300000\n",
       "75%        6.400000     3.300000      5.100000     1.800000\n",
       "max        7.900000     4.400000      6.900000     2.500000"
      ]
     },
     "execution_count": 5,
     "metadata": {},
     "output_type": "execute_result"
    }
   ],
   "source": [
    "df.describe()"
   ]
  },
  {
   "cell_type": "code",
   "execution_count": 6,
   "metadata": {},
   "outputs": [
    {
     "data": {
      "text/plain": [
       "sepal_length    0\n",
       "sepal_width     0\n",
       "petal_length    0\n",
       "petal_width     0\n",
       "species         0\n",
       "dtype: int64"
      ]
     },
     "execution_count": 6,
     "metadata": {},
     "output_type": "execute_result"
    }
   ],
   "source": [
    "# To check for any missing values\n",
    "df.isna().sum()"
   ]
  },
  {
   "cell_type": "code",
   "execution_count": 7,
   "metadata": {},
   "outputs": [
    {
     "data": {
      "text/plain": [
       "Index(['sepal_length', 'sepal_width', 'petal_length', 'petal_width',\n",
       "       'species'],\n",
       "      dtype='object')"
      ]
     },
     "execution_count": 7,
     "metadata": {},
     "output_type": "execute_result"
    }
   ],
   "source": [
    "df.keys()"
   ]
  },
  {
   "cell_type": "code",
   "execution_count": 8,
   "metadata": {},
   "outputs": [
    {
     "data": {
      "text/plain": [
       "array([[5.1, 3.5, 1.4, 0.2, 'setosa'],\n",
       "       [4.9, 3.0, 1.4, 0.2, 'setosa'],\n",
       "       [4.7, 3.2, 1.3, 0.2, 'setosa'],\n",
       "       [4.6, 3.1, 1.5, 0.2, 'setosa'],\n",
       "       [5.0, 3.6, 1.4, 0.2, 'setosa'],\n",
       "       [5.4, 3.9, 1.7, 0.4, 'setosa'],\n",
       "       [4.6, 3.4, 1.4, 0.3, 'setosa'],\n",
       "       [5.0, 3.4, 1.5, 0.2, 'setosa'],\n",
       "       [4.4, 2.9, 1.4, 0.2, 'setosa'],\n",
       "       [4.9, 3.1, 1.5, 0.1, 'setosa'],\n",
       "       [5.4, 3.7, 1.5, 0.2, 'setosa'],\n",
       "       [4.8, 3.4, 1.6, 0.2, 'setosa'],\n",
       "       [4.8, 3.0, 1.4, 0.1, 'setosa'],\n",
       "       [4.3, 3.0, 1.1, 0.1, 'setosa'],\n",
       "       [5.8, 4.0, 1.2, 0.2, 'setosa'],\n",
       "       [5.7, 4.4, 1.5, 0.4, 'setosa'],\n",
       "       [5.4, 3.9, 1.3, 0.4, 'setosa'],\n",
       "       [5.1, 3.5, 1.4, 0.3, 'setosa'],\n",
       "       [5.7, 3.8, 1.7, 0.3, 'setosa'],\n",
       "       [5.1, 3.8, 1.5, 0.3, 'setosa'],\n",
       "       [5.4, 3.4, 1.7, 0.2, 'setosa'],\n",
       "       [5.1, 3.7, 1.5, 0.4, 'setosa'],\n",
       "       [4.6, 3.6, 1.0, 0.2, 'setosa'],\n",
       "       [5.1, 3.3, 1.7, 0.5, 'setosa'],\n",
       "       [4.8, 3.4, 1.9, 0.2, 'setosa'],\n",
       "       [5.0, 3.0, 1.6, 0.2, 'setosa'],\n",
       "       [5.0, 3.4, 1.6, 0.4, 'setosa'],\n",
       "       [5.2, 3.5, 1.5, 0.2, 'setosa'],\n",
       "       [5.2, 3.4, 1.4, 0.2, 'setosa'],\n",
       "       [4.7, 3.2, 1.6, 0.2, 'setosa'],\n",
       "       [4.8, 3.1, 1.6, 0.2, 'setosa'],\n",
       "       [5.4, 3.4, 1.5, 0.4, 'setosa'],\n",
       "       [5.2, 4.1, 1.5, 0.1, 'setosa'],\n",
       "       [5.5, 4.2, 1.4, 0.2, 'setosa'],\n",
       "       [4.9, 3.1, 1.5, 0.1, 'setosa'],\n",
       "       [5.0, 3.2, 1.2, 0.2, 'setosa'],\n",
       "       [5.5, 3.5, 1.3, 0.2, 'setosa'],\n",
       "       [4.9, 3.1, 1.5, 0.1, 'setosa'],\n",
       "       [4.4, 3.0, 1.3, 0.2, 'setosa'],\n",
       "       [5.1, 3.4, 1.5, 0.2, 'setosa'],\n",
       "       [5.0, 3.5, 1.3, 0.3, 'setosa'],\n",
       "       [4.5, 2.3, 1.3, 0.3, 'setosa'],\n",
       "       [4.4, 3.2, 1.3, 0.2, 'setosa'],\n",
       "       [5.0, 3.5, 1.6, 0.6, 'setosa'],\n",
       "       [5.1, 3.8, 1.9, 0.4, 'setosa'],\n",
       "       [4.8, 3.0, 1.4, 0.3, 'setosa'],\n",
       "       [5.1, 3.8, 1.6, 0.2, 'setosa'],\n",
       "       [4.6, 3.2, 1.4, 0.2, 'setosa'],\n",
       "       [5.3, 3.7, 1.5, 0.2, 'setosa'],\n",
       "       [5.0, 3.3, 1.4, 0.2, 'setosa'],\n",
       "       [7.0, 3.2, 4.7, 1.4, 'versicolor'],\n",
       "       [6.4, 3.2, 4.5, 1.5, 'versicolor'],\n",
       "       [6.9, 3.1, 4.9, 1.5, 'versicolor'],\n",
       "       [5.5, 2.3, 4.0, 1.3, 'versicolor'],\n",
       "       [6.5, 2.8, 4.6, 1.5, 'versicolor'],\n",
       "       [5.7, 2.8, 4.5, 1.3, 'versicolor'],\n",
       "       [6.3, 3.3, 4.7, 1.6, 'versicolor'],\n",
       "       [4.9, 2.4, 3.3, 1.0, 'versicolor'],\n",
       "       [6.6, 2.9, 4.6, 1.3, 'versicolor'],\n",
       "       [5.2, 2.7, 3.9, 1.4, 'versicolor'],\n",
       "       [5.0, 2.0, 3.5, 1.0, 'versicolor'],\n",
       "       [5.9, 3.0, 4.2, 1.5, 'versicolor'],\n",
       "       [6.0, 2.2, 4.0, 1.0, 'versicolor'],\n",
       "       [6.1, 2.9, 4.7, 1.4, 'versicolor'],\n",
       "       [5.6, 2.9, 3.6, 1.3, 'versicolor'],\n",
       "       [6.7, 3.1, 4.4, 1.4, 'versicolor'],\n",
       "       [5.6, 3.0, 4.5, 1.5, 'versicolor'],\n",
       "       [5.8, 2.7, 4.1, 1.0, 'versicolor'],\n",
       "       [6.2, 2.2, 4.5, 1.5, 'versicolor'],\n",
       "       [5.6, 2.5, 3.9, 1.1, 'versicolor'],\n",
       "       [5.9, 3.2, 4.8, 1.8, 'versicolor'],\n",
       "       [6.1, 2.8, 4.0, 1.3, 'versicolor'],\n",
       "       [6.3, 2.5, 4.9, 1.5, 'versicolor'],\n",
       "       [6.1, 2.8, 4.7, 1.2, 'versicolor'],\n",
       "       [6.4, 2.9, 4.3, 1.3, 'versicolor'],\n",
       "       [6.6, 3.0, 4.4, 1.4, 'versicolor'],\n",
       "       [6.8, 2.8, 4.8, 1.4, 'versicolor'],\n",
       "       [6.7, 3.0, 5.0, 1.7, 'versicolor'],\n",
       "       [6.0, 2.9, 4.5, 1.5, 'versicolor'],\n",
       "       [5.7, 2.6, 3.5, 1.0, 'versicolor'],\n",
       "       [5.5, 2.4, 3.8, 1.1, 'versicolor'],\n",
       "       [5.5, 2.4, 3.7, 1.0, 'versicolor'],\n",
       "       [5.8, 2.7, 3.9, 1.2, 'versicolor'],\n",
       "       [6.0, 2.7, 5.1, 1.6, 'versicolor'],\n",
       "       [5.4, 3.0, 4.5, 1.5, 'versicolor'],\n",
       "       [6.0, 3.4, 4.5, 1.6, 'versicolor'],\n",
       "       [6.7, 3.1, 4.7, 1.5, 'versicolor'],\n",
       "       [6.3, 2.3, 4.4, 1.3, 'versicolor'],\n",
       "       [5.6, 3.0, 4.1, 1.3, 'versicolor'],\n",
       "       [5.5, 2.5, 4.0, 1.3, 'versicolor'],\n",
       "       [5.5, 2.6, 4.4, 1.2, 'versicolor'],\n",
       "       [6.1, 3.0, 4.6, 1.4, 'versicolor'],\n",
       "       [5.8, 2.6, 4.0, 1.2, 'versicolor'],\n",
       "       [5.0, 2.3, 3.3, 1.0, 'versicolor'],\n",
       "       [5.6, 2.7, 4.2, 1.3, 'versicolor'],\n",
       "       [5.7, 3.0, 4.2, 1.2, 'versicolor'],\n",
       "       [5.7, 2.9, 4.2, 1.3, 'versicolor'],\n",
       "       [6.2, 2.9, 4.3, 1.3, 'versicolor'],\n",
       "       [5.1, 2.5, 3.0, 1.1, 'versicolor'],\n",
       "       [5.7, 2.8, 4.1, 1.3, 'versicolor'],\n",
       "       [6.3, 3.3, 6.0, 2.5, 'virginica'],\n",
       "       [5.8, 2.7, 5.1, 1.9, 'virginica'],\n",
       "       [7.1, 3.0, 5.9, 2.1, 'virginica'],\n",
       "       [6.3, 2.9, 5.6, 1.8, 'virginica'],\n",
       "       [6.5, 3.0, 5.8, 2.2, 'virginica'],\n",
       "       [7.6, 3.0, 6.6, 2.1, 'virginica'],\n",
       "       [4.9, 2.5, 4.5, 1.7, 'virginica'],\n",
       "       [7.3, 2.9, 6.3, 1.8, 'virginica'],\n",
       "       [6.7, 2.5, 5.8, 1.8, 'virginica'],\n",
       "       [7.2, 3.6, 6.1, 2.5, 'virginica'],\n",
       "       [6.5, 3.2, 5.1, 2.0, 'virginica'],\n",
       "       [6.4, 2.7, 5.3, 1.9, 'virginica'],\n",
       "       [6.8, 3.0, 5.5, 2.1, 'virginica'],\n",
       "       [5.7, 2.5, 5.0, 2.0, 'virginica'],\n",
       "       [5.8, 2.8, 5.1, 2.4, 'virginica'],\n",
       "       [6.4, 3.2, 5.3, 2.3, 'virginica'],\n",
       "       [6.5, 3.0, 5.5, 1.8, 'virginica'],\n",
       "       [7.7, 3.8, 6.7, 2.2, 'virginica'],\n",
       "       [7.7, 2.6, 6.9, 2.3, 'virginica'],\n",
       "       [6.0, 2.2, 5.0, 1.5, 'virginica'],\n",
       "       [6.9, 3.2, 5.7, 2.3, 'virginica'],\n",
       "       [5.6, 2.8, 4.9, 2.0, 'virginica'],\n",
       "       [7.7, 2.8, 6.7, 2.0, 'virginica'],\n",
       "       [6.3, 2.7, 4.9, 1.8, 'virginica'],\n",
       "       [6.7, 3.3, 5.7, 2.1, 'virginica'],\n",
       "       [7.2, 3.2, 6.0, 1.8, 'virginica'],\n",
       "       [6.2, 2.8, 4.8, 1.8, 'virginica'],\n",
       "       [6.1, 3.0, 4.9, 1.8, 'virginica'],\n",
       "       [6.4, 2.8, 5.6, 2.1, 'virginica'],\n",
       "       [7.2, 3.0, 5.8, 1.6, 'virginica'],\n",
       "       [7.4, 2.8, 6.1, 1.9, 'virginica'],\n",
       "       [7.9, 3.8, 6.4, 2.0, 'virginica'],\n",
       "       [6.4, 2.8, 5.6, 2.2, 'virginica'],\n",
       "       [6.3, 2.8, 5.1, 1.5, 'virginica'],\n",
       "       [6.1, 2.6, 5.6, 1.4, 'virginica'],\n",
       "       [7.7, 3.0, 6.1, 2.3, 'virginica'],\n",
       "       [6.3, 3.4, 5.6, 2.4, 'virginica'],\n",
       "       [6.4, 3.1, 5.5, 1.8, 'virginica'],\n",
       "       [6.0, 3.0, 4.8, 1.8, 'virginica'],\n",
       "       [6.9, 3.1, 5.4, 2.1, 'virginica'],\n",
       "       [6.7, 3.1, 5.6, 2.4, 'virginica'],\n",
       "       [6.9, 3.1, 5.1, 2.3, 'virginica'],\n",
       "       [5.8, 2.7, 5.1, 1.9, 'virginica'],\n",
       "       [6.8, 3.2, 5.9, 2.3, 'virginica'],\n",
       "       [6.7, 3.3, 5.7, 2.5, 'virginica'],\n",
       "       [6.7, 3.0, 5.2, 2.3, 'virginica'],\n",
       "       [6.3, 2.5, 5.0, 1.9, 'virginica'],\n",
       "       [6.5, 3.0, 5.2, 2.0, 'virginica'],\n",
       "       [6.2, 3.4, 5.4, 2.3, 'virginica'],\n",
       "       [5.9, 3.0, 5.1, 1.8, 'virginica']], dtype=object)"
      ]
     },
     "execution_count": 8,
     "metadata": {},
     "output_type": "execute_result"
    }
   ],
   "source": [
    "df.values"
   ]
  },
  {
   "cell_type": "code",
   "execution_count": 9,
   "metadata": {},
   "outputs": [
    {
     "data": {
      "text/plain": [
       "(150, 5)"
      ]
     },
     "execution_count": 9,
     "metadata": {},
     "output_type": "execute_result"
    }
   ],
   "source": [
    "df.shape"
   ]
  },
  {
   "cell_type": "code",
   "execution_count": 10,
   "metadata": {},
   "outputs": [
    {
     "name": "stdout",
     "output_type": "stream",
     "text": [
      "species\n",
      "setosa        50\n",
      "versicolor    50\n",
      "virginica     50\n",
      "dtype: int64\n"
     ]
    }
   ],
   "source": [
    "# Species distribution\n",
    "print(df.groupby('species').size())"
   ]
  },
  {
   "cell_type": "markdown",
   "metadata": {},
   "source": [
    "## EDA "
   ]
  },
  {
   "cell_type": "code",
   "execution_count": 11,
   "metadata": {},
   "outputs": [
    {
     "data": {
      "image/png": "[encoded data removed]",
      "text/plain": [
       "<Figure size 432x288 with 4 Axes>"
      ]
     },
     "metadata": {
      "needs_background": "light"
     },
     "output_type": "display_data"
    }
   ],
   "source": [
    "df.plot(kind='box', subplots=True, layout=(2,2), sharex=False, sharey=False)\n",
    "plt.show()"
   ]
  },
  {
   "cell_type": "code",
   "execution_count": 12,
   "metadata": {},
   "outputs": [
    {
     "data": {
      "image/png": "[encoded data removed]",
      "text/plain": [
       "<Figure size 432x288 with 4 Axes>"
      ]
     },
     "metadata": {
      "needs_background": "light"
     },
     "output_type": "display_data"
    }
   ],
   "source": [
    "# histograms using pandas plot\n",
    "df.hist()\n",
    "plt.show()"
   ]
  },
  {
   "cell_type": "code",
   "execution_count": 13,
   "metadata": {},
   "outputs": [
    {
     "data": {
      "text/plain": [
       "<seaborn.axisgrid.PairGrid at 0x2c21afd6040>"
      ]
     },
     "execution_count": 13,
     "metadata": {},
     "output_type": "execute_result"
    },
    {
     "data": {
      "image/png": "[encoded data removed]",
      "text/plain": [
       "<Figure size 720x720 with 20 Axes>"
      ]
     },
     "metadata": {
      "needs_background": "light"
     },
     "output_type": "display_data"
    }
   ],
   "source": [
    "# Multivariate Plots\n",
    "# Relationships between each attribute\n",
    "sns.pairplot(df)"
   ]
  },
  {
   "cell_type": "code",
   "execution_count": 14,
   "metadata": {},
   "outputs": [
    {
     "data": {
      "image/png": "[encoded data removed]",
      "text/plain": [
       "<Figure size 432x288 with 16 Axes>"
      ]
     },
     "metadata": {
      "needs_background": "light"
     },
     "output_type": "display_data"
    }
   ],
   "source": [
    "# scatter plot matrix\n",
    "from pandas.plotting import scatter_matrix\n",
    "scatter_matrix(df)\n",
    "plt.show()"
   ]
  },
  {
   "cell_type": "code",
   "execution_count": 15,
   "metadata": {},
   "outputs": [
    {
     "data": {
      "text/plain": [
       "<AxesSubplot:>"
      ]
     },
     "execution_count": 15,
     "metadata": {},
     "output_type": "execute_result"
    },
    {
     "data": {
      "image/png": "[encoded data removed]",
      "text/plain": [
       "<Figure size 1440x720 with 2 Axes>"
      ]
     },
     "metadata": {
      "needs_background": "light"
     },
     "output_type": "display_data"
    }
   ],
   "source": [
    "plt.figure(figsize =(20,10))\n",
    "sns.heatmap(df.corr(), annot =True)"
   ]
  },
  {
   "cell_type": "code",
   "execution_count": 16,
   "metadata": {},
   "outputs": [
    {
     "name": "stderr",
     "output_type": "stream",
     "text": [
      "C:\\Users\\starinfo\\anaconda3\\lib\\site-packages\\seaborn\\_decorators.py:36: FutureWarning: Pass the following variable as a keyword arg: x. From version 0.12, the only valid positional argument will be `data`, and passing other arguments without an explicit keyword will result in an error or misinterpretation.\n",
      "  warnings.warn(\n"
     ]
    },
    {
     "data": {
      "text/plain": [
       "<AxesSubplot:xlabel='species', ylabel='count'>"
      ]
     },
     "execution_count": 16,
     "metadata": {},
     "output_type": "execute_result"
    },
    {
     "data": {
      "image/png": "[encoded data removed]",
      "text/plain": [
       "<Figure size 432x288 with 1 Axes>"
      ]
     },
     "metadata": {
      "needs_background": "light"
     },
     "output_type": "display_data"
    }
   ],
   "source": [
    "sns.countplot(df['species'])"
   ]
  },
  {
   "cell_type": "markdown",
   "metadata": {},
   "source": [
    "## Machine Learning Models"
   ]
  },
  {
   "cell_type": "code",
   "execution_count": 17,
   "metadata": {},
   "outputs": [
    {
     "data": {
      "text/plain": [
       "array([[5.1, 3.5, 1.4, 0.2],\n",
       "       [4.9, 3.0, 1.4, 0.2],\n",
       "       [4.7, 3.2, 1.3, 0.2],\n",
       "       [4.6, 3.1, 1.5, 0.2],\n",
       "       [5.0, 3.6, 1.4, 0.2],\n",
       "       [5.4, 3.9, 1.7, 0.4],\n",
       "       [4.6, 3.4, 1.4, 0.3],\n",
       "       [5.0, 3.4, 1.5, 0.2],\n",
       "       [4.4, 2.9, 1.4, 0.2],\n",
       "       [4.9, 3.1, 1.5, 0.1],\n",
       "       [5.4, 3.7, 1.5, 0.2],\n",
       "       [4.8, 3.4, 1.6, 0.2],\n",
       "       [4.8, 3.0, 1.4, 0.1],\n",
       "       [4.3, 3.0, 1.1, 0.1],\n",
       "       [5.8, 4.0, 1.2, 0.2],\n",
       "       [5.7, 4.4, 1.5, 0.4],\n",
       "       [5.4, 3.9, 1.3, 0.4],\n",
       "       [5.1, 3.5, 1.4, 0.3],\n",
       "       [5.7, 3.8, 1.7, 0.3],\n",
       "       [5.1, 3.8, 1.5, 0.3],\n",
       "       [5.4, 3.4, 1.7, 0.2],\n",
       "       [5.1, 3.7, 1.5, 0.4],\n",
       "       [4.6, 3.6, 1.0, 0.2],\n",
       "       [5.1, 3.3, 1.7, 0.5],\n",
       "       [4.8, 3.4, 1.9, 0.2],\n",
       "       [5.0, 3.0, 1.6, 0.2],\n",
       "       [5.0, 3.4, 1.6, 0.4],\n",
       "       [5.2, 3.5, 1.5, 0.2],\n",
       "       [5.2, 3.4, 1.4, 0.2],\n",
       "       [4.7, 3.2, 1.6, 0.2],\n",
       "       [4.8, 3.1, 1.6, 0.2],\n",
       "       [5.4, 3.4, 1.5, 0.4],\n",
       "       [5.2, 4.1, 1.5, 0.1],\n",
       "       [5.5, 4.2, 1.4, 0.2],\n",
       "       [4.9, 3.1, 1.5, 0.1],\n",
       "       [5.0, 3.2, 1.2, 0.2],\n",
       "       [5.5, 3.5, 1.3, 0.2],\n",
       "       [4.9, 3.1, 1.5, 0.1],\n",
       "       [4.4, 3.0, 1.3, 0.2],\n",
       "       [5.1, 3.4, 1.5, 0.2],\n",
       "       [5.0, 3.5, 1.3, 0.3],\n",
       "       [4.5, 2.3, 1.3, 0.3],\n",
       "       [4.4, 3.2, 1.3, 0.2],\n",
       "       [5.0, 3.5, 1.6, 0.6],\n",
       "       [5.1, 3.8, 1.9, 0.4],\n",
       "       [4.8, 3.0, 1.4, 0.3],\n",
       "       [5.1, 3.8, 1.6, 0.2],\n",
       "       [4.6, 3.2, 1.4, 0.2],\n",
       "       [5.3, 3.7, 1.5, 0.2],\n",
       "       [5.0, 3.3, 1.4, 0.2],\n",
       "       [7.0, 3.2, 4.7, 1.4],\n",
       "       [6.4, 3.2, 4.5, 1.5],\n",
       "       [6.9, 3.1, 4.9, 1.5],\n",
       "       [5.5, 2.3, 4.0, 1.3],\n",
       "       [6.5, 2.8, 4.6, 1.5],\n",
       "       [5.7, 2.8, 4.5, 1.3],\n",
       "       [6.3, 3.3, 4.7, 1.6],\n",
       "       [4.9, 2.4, 3.3, 1.0],\n",
       "       [6.6, 2.9, 4.6, 1.3],\n",
       "       [5.2, 2.7, 3.9, 1.4],\n",
       "       [5.0, 2.0, 3.5, 1.0],\n",
       "       [5.9, 3.0, 4.2, 1.5],\n",
       "       [6.0, 2.2, 4.0, 1.0],\n",
       "       [6.1, 2.9, 4.7, 1.4],\n",
       "       [5.6, 2.9, 3.6, 1.3],\n",
       "       [6.7, 3.1, 4.4, 1.4],\n",
       "       [5.6, 3.0, 4.5, 1.5],\n",
       "       [5.8, 2.7, 4.1, 1.0],\n",
       "       [6.2, 2.2, 4.5, 1.5],\n",
       "       [5.6, 2.5, 3.9, 1.1],\n",
       "       [5.9, 3.2, 4.8, 1.8],\n",
       "       [6.1, 2.8, 4.0, 1.3],\n",
       "       [6.3, 2.5, 4.9, 1.5],\n",
       "       [6.1, 2.8, 4.7, 1.2],\n",
       "       [6.4, 2.9, 4.3, 1.3],\n",
       "       [6.6, 3.0, 4.4, 1.4],\n",
       "       [6.8, 2.8, 4.8, 1.4],\n",
       "       [6.7, 3.0, 5.0, 1.7],\n",
       "       [6.0, 2.9, 4.5, 1.5],\n",
       "       [5.7, 2.6, 3.5, 1.0],\n",
       "       [5.5, 2.4, 3.8, 1.1],\n",
       "       [5.5, 2.4, 3.7, 1.0],\n",
       "       [5.8, 2.7, 3.9, 1.2],\n",
       "       [6.0, 2.7, 5.1, 1.6],\n",
       "       [5.4, 3.0, 4.5, 1.5],\n",
       "       [6.0, 3.4, 4.5, 1.6],\n",
       "       [6.7, 3.1, 4.7, 1.5],\n",
       "       [6.3, 2.3, 4.4, 1.3],\n",
       "       [5.6, 3.0, 4.1, 1.3],\n",
       "       [5.5, 2.5, 4.0, 1.3],\n",
       "       [5.5, 2.6, 4.4, 1.2],\n",
       "       [6.1, 3.0, 4.6, 1.4],\n",
       "       [5.8, 2.6, 4.0, 1.2],\n",
       "       [5.0, 2.3, 3.3, 1.0],\n",
       "       [5.6, 2.7, 4.2, 1.3],\n",
       "       [5.7, 3.0, 4.2, 1.2],\n",
       "       [5.7, 2.9, 4.2, 1.3],\n",
       "       [6.2, 2.9, 4.3, 1.3],\n",
       "       [5.1, 2.5, 3.0, 1.1],\n",
       "       [5.7, 2.8, 4.1, 1.3],\n",
       "       [6.3, 3.3, 6.0, 2.5],\n",
       "       [5.8, 2.7, 5.1, 1.9],\n",
       "       [7.1, 3.0, 5.9, 2.1],\n",
       "       [6.3, 2.9, 5.6, 1.8],\n",
       "       [6.5, 3.0, 5.8, 2.2],\n",
       "       [7.6, 3.0, 6.6, 2.1],\n",
       "       [4.9, 2.5, 4.5, 1.7],\n",
       "       [7.3, 2.9, 6.3, 1.8],\n",
       "       [6.7, 2.5, 5.8, 1.8],\n",
       "       [7.2, 3.6, 6.1, 2.5],\n",
       "       [6.5, 3.2, 5.1, 2.0],\n",
       "       [6.4, 2.7, 5.3, 1.9],\n",
       "       [6.8, 3.0, 5.5, 2.1],\n",
       "       [5.7, 2.5, 5.0, 2.0],\n",
       "       [5.8, 2.8, 5.1, 2.4],\n",
       "       [6.4, 3.2, 5.3, 2.3],\n",
       "       [6.5, 3.0, 5.5, 1.8],\n",
       "       [7.7, 3.8, 6.7, 2.2],\n",
       "       [7.7, 2.6, 6.9, 2.3],\n",
       "       [6.0, 2.2, 5.0, 1.5],\n",
       "       [6.9, 3.2, 5.7, 2.3],\n",
       "       [5.6, 2.8, 4.9, 2.0],\n",
       "       [7.7, 2.8, 6.7, 2.0],\n",
       "       [6.3, 2.7, 4.9, 1.8],\n",
       "       [6.7, 3.3, 5.7, 2.1],\n",
       "       [7.2, 3.2, 6.0, 1.8],\n",
       "       [6.2, 2.8, 4.8, 1.8],\n",
       "       [6.1, 3.0, 4.9, 1.8],\n",
       "       [6.4, 2.8, 5.6, 2.1],\n",
       "       [7.2, 3.0, 5.8, 1.6],\n",
       "       [7.4, 2.8, 6.1, 1.9],\n",
       "       [7.9, 3.8, 6.4, 2.0],\n",
       "       [6.4, 2.8, 5.6, 2.2],\n",
       "       [6.3, 2.8, 5.1, 1.5],\n",
       "       [6.1, 2.6, 5.6, 1.4],\n",
       "       [7.7, 3.0, 6.1, 2.3],\n",
       "       [6.3, 3.4, 5.6, 2.4],\n",
       "       [6.4, 3.1, 5.5, 1.8],\n",
       "       [6.0, 3.0, 4.8, 1.8],\n",
       "       [6.9, 3.1, 5.4, 2.1],\n",
       "       [6.7, 3.1, 5.6, 2.4],\n",
       "       [6.9, 3.1, 5.1, 2.3],\n",
       "       [5.8, 2.7, 5.1, 1.9],\n",
       "       [6.8, 3.2, 5.9, 2.3],\n",
       "       [6.7, 3.3, 5.7, 2.5],\n",
       "       [6.7, 3.0, 5.2, 2.3],\n",
       "       [6.3, 2.5, 5.0, 1.9],\n",
       "       [6.5, 3.0, 5.2, 2.0],\n",
       "       [6.2, 3.4, 5.4, 2.3],\n",
       "       [5.9, 3.0, 5.1, 1.8]], dtype=object)"
      ]
     },
     "execution_count": 17,
     "metadata": {},
     "output_type": "execute_result"
    }
   ],
   "source": [
    "# Split-out validation dataset\n",
    "array = df.values\n",
    "x = array[:,0:4]\n",
    "y = array[:,4]\n",
    "x"
   ]
  },
  {
   "cell_type": "code",
   "execution_count": 18,
   "metadata": {
    "scrolled": true
   },
   "outputs": [
    {
     "data": {
      "text/plain": [
       "array(['setosa', 'setosa', 'setosa', 'setosa', 'setosa', 'setosa',\n",
       "       'setosa', 'setosa', 'setosa', 'setosa', 'setosa', 'setosa',\n",
       "       'setosa', 'setosa', 'setosa', 'setosa', 'setosa', 'setosa',\n",
       "       'setosa', 'setosa', 'setosa', 'setosa', 'setosa', 'setosa',\n",
       "       'setosa', 'setosa', 'setosa', 'setosa', 'setosa', 'setosa',\n",
       "       'setosa', 'setosa', 'setosa', 'setosa', 'setosa', 'setosa',\n",
       "       'setosa', 'setosa', 'setosa', 'setosa', 'setosa', 'setosa',\n",
       "       'setosa', 'setosa', 'setosa', 'setosa', 'setosa', 'setosa',\n",
       "       'setosa', 'setosa', 'versicolor', 'versicolor', 'versicolor',\n",
       "       'versicolor', 'versicolor', 'versicolor', 'versicolor',\n",
       "       'versicolor', 'versicolor', 'versicolor', 'versicolor',\n",
       "       'versicolor', 'versicolor', 'versicolor', 'versicolor',\n",
       "       'versicolor', 'versicolor', 'versicolor', 'versicolor',\n",
       "       'versicolor', 'versicolor', 'versicolor', 'versicolor',\n",
       "       'versicolor', 'versicolor', 'versicolor', 'versicolor',\n",
       "       'versicolor', 'versicolor', 'versicolor', 'versicolor',\n",
       "       'versicolor', 'versicolor', 'versicolor', 'versicolor',\n",
       "       'versicolor', 'versicolor', 'versicolor', 'versicolor',\n",
       "       'versicolor', 'versicolor', 'versicolor', 'versicolor',\n",
       "       'versicolor', 'versicolor', 'versicolor', 'versicolor',\n",
       "       'versicolor', 'versicolor', 'versicolor', 'virginica', 'virginica',\n",
       "       'virginica', 'virginica', 'virginica', 'virginica', 'virginica',\n",
       "       'virginica', 'virginica', 'virginica', 'virginica', 'virginica',\n",
       "       'virginica', 'virginica', 'virginica', 'virginica', 'virginica',\n",
       "       'virginica', 'virginica', 'virginica', 'virginica', 'virginica',\n",
       "       'virginica', 'virginica', 'virginica', 'virginica', 'virginica',\n",
       "       'virginica', 'virginica', 'virginica', 'virginica', 'virginica',\n",
       "       'virginica', 'virginica', 'virginica', 'virginica', 'virginica',\n",
       "       'virginica', 'virginica', 'virginica', 'virginica', 'virginica',\n",
       "       'virginica', 'virginica', 'virginica', 'virginica', 'virginica',\n",
       "       'virginica', 'virginica', 'virginica'], dtype=object)"
      ]
     },
     "execution_count": 18,
     "metadata": {},
     "output_type": "execute_result"
    }
   ],
   "source": [
    "y"
   ]
  },
  {
   "cell_type": "code",
   "execution_count": 19,
   "metadata": {},
   "outputs": [],
   "source": [
    "from sklearn.model_selection import train_test_split"
   ]
  },
  {
   "cell_type": "code",
   "execution_count": 20,
   "metadata": {},
   "outputs": [],
   "source": [
    "x_train, x_test, y_train, y_test = train_test_split(x, y, test_size=0.2, random_state=5)"
   ]
  },
  {
   "cell_type": "code",
   "execution_count": 21,
   "metadata": {},
   "outputs": [
    {
     "data": {
      "text/plain": [
       "array([[5.1, 3.4, 1.5, 0.2],\n",
       "       [5.5, 2.3, 4.0, 1.3],\n",
       "       [5.7, 2.6, 3.5, 1.0],\n",
       "       [5.4, 3.7, 1.5, 0.2],\n",
       "       [7.0, 3.2, 4.7, 1.4],\n",
       "       [5.0, 3.3, 1.4, 0.2],\n",
       "       [5.0, 3.5, 1.6, 0.6],\n",
       "       [7.7, 3.0, 6.1, 2.3],\n",
       "       [5.0, 3.5, 1.3, 0.3],\n",
       "       [6.4, 3.2, 5.3, 2.3],\n",
       "       [5.8, 2.7, 5.1, 1.9],\n",
       "       [5.6, 2.5, 3.9, 1.1],\n",
       "       [5.1, 3.5, 1.4, 0.3],\n",
       "       [5.1, 3.8, 1.6, 0.2],\n",
       "       [6.5, 2.8, 4.6, 1.5],\n",
       "       [6.2, 2.8, 4.8, 1.8],\n",
       "       [5.9, 3.0, 4.2, 1.5],\n",
       "       [6.7, 3.3, 5.7, 2.1],\n",
       "       [7.7, 3.8, 6.7, 2.2],\n",
       "       [5.4, 3.4, 1.7, 0.2],\n",
       "       [6.3, 2.5, 5.0, 1.9],\n",
       "       [5.0, 3.2, 1.2, 0.2],\n",
       "       [4.6, 3.4, 1.4, 0.3],\n",
       "       [5.7, 4.4, 1.5, 0.4],\n",
       "       [5.2, 3.4, 1.4, 0.2],\n",
       "       [6.2, 2.9, 4.3, 1.3],\n",
       "       [6.3, 3.3, 4.7, 1.6],\n",
       "       [5.5, 2.4, 3.7, 1.0],\n",
       "       [5.1, 2.5, 3.0, 1.1],\n",
       "       [5.9, 3.0, 5.1, 1.8],\n",
       "       [5.0, 2.0, 3.5, 1.0],\n",
       "       [6.5, 3.0, 5.2, 2.0],\n",
       "       [6.5, 3.0, 5.8, 2.2],\n",
       "       [6.9, 3.1, 4.9, 1.5],\n",
       "       [4.6, 3.6, 1.0, 0.2],\n",
       "       [6.6, 3.0, 4.4, 1.4],\n",
       "       [4.9, 3.1, 1.5, 0.1],\n",
       "       [6.7, 3.0, 5.0, 1.7],\n",
       "       [6.7, 3.0, 5.2, 2.3],\n",
       "       [5.6, 2.9, 3.6, 1.3],\n",
       "       [6.3, 3.4, 5.6, 2.4],\n",
       "       [5.6, 2.7, 4.2, 1.3],\n",
       "       [6.1, 3.0, 4.9, 1.8],\n",
       "       [6.3, 2.3, 4.4, 1.3],\n",
       "       [5.8, 2.6, 4.0, 1.2],\n",
       "       [5.7, 3.0, 4.2, 1.2],\n",
       "       [6.9, 3.1, 5.4, 2.1],\n",
       "       [6.8, 2.8, 4.8, 1.4],\n",
       "       [5.2, 4.1, 1.5, 0.1],\n",
       "       [5.8, 2.7, 5.1, 1.9],\n",
       "       [4.3, 3.0, 1.1, 0.1],\n",
       "       [4.8, 3.4, 1.9, 0.2],\n",
       "       [5.2, 2.7, 3.9, 1.4],\n",
       "       [4.8, 3.0, 1.4, 0.3],\n",
       "       [4.9, 3.1, 1.5, 0.1],\n",
       "       [7.9, 3.8, 6.4, 2.0],\n",
       "       [5.0, 2.3, 3.3, 1.0],\n",
       "       [4.6, 3.2, 1.4, 0.2],\n",
       "       [6.5, 3.0, 5.5, 1.8],\n",
       "       [4.9, 3.1, 1.5, 0.1],\n",
       "       [6.0, 2.2, 5.0, 1.5],\n",
       "       [5.5, 2.6, 4.4, 1.2],\n",
       "       [5.8, 4.0, 1.2, 0.2],\n",
       "       [5.4, 3.9, 1.3, 0.4],\n",
       "       [6.4, 2.7, 5.3, 1.9],\n",
       "       [6.0, 3.4, 4.5, 1.6],\n",
       "       [5.5, 2.5, 4.0, 1.3],\n",
       "       [5.5, 4.2, 1.4, 0.2],\n",
       "       [4.7, 3.2, 1.6, 0.2],\n",
       "       [6.9, 3.2, 5.7, 2.3],\n",
       "       [6.0, 2.9, 4.5, 1.5],\n",
       "       [6.1, 3.0, 4.6, 1.4],\n",
       "       [4.6, 3.1, 1.5, 0.2],\n",
       "       [5.7, 2.8, 4.5, 1.3],\n",
       "       [6.0, 3.0, 4.8, 1.8],\n",
       "       [5.8, 2.7, 4.1, 1.0],\n",
       "       [4.8, 3.4, 1.6, 0.2],\n",
       "       [6.0, 2.2, 4.0, 1.0],\n",
       "       [6.4, 3.1, 5.5, 1.8],\n",
       "       [6.7, 2.5, 5.8, 1.8],\n",
       "       [6.3, 3.3, 6.0, 2.5],\n",
       "       [6.8, 3.2, 5.9, 2.3],\n",
       "       [5.7, 3.8, 1.7, 0.3],\n",
       "       [5.1, 3.8, 1.5, 0.3],\n",
       "       [6.0, 2.7, 5.1, 1.6],\n",
       "       [7.7, 2.8, 6.7, 2.0],\n",
       "       [4.4, 3.0, 1.3, 0.2],\n",
       "       [6.2, 2.2, 4.5, 1.5],\n",
       "       [4.7, 3.2, 1.3, 0.2],\n",
       "       [5.4, 3.4, 1.5, 0.4],\n",
       "       [6.7, 3.1, 5.6, 2.4],\n",
       "       [6.4, 3.2, 4.5, 1.5],\n",
       "       [7.6, 3.0, 6.6, 2.1],\n",
       "       [5.5, 3.5, 1.3, 0.2],\n",
       "       [6.5, 3.2, 5.1, 2.0],\n",
       "       [5.0, 3.6, 1.4, 0.2],\n",
       "       [6.9, 3.1, 5.1, 2.3],\n",
       "       [5.1, 3.5, 1.4, 0.2],\n",
       "       [6.6, 2.9, 4.6, 1.3],\n",
       "       [5.4, 3.9, 1.7, 0.4],\n",
       "       [6.3, 2.9, 5.6, 1.8],\n",
       "       [7.2, 3.0, 5.8, 1.6],\n",
       "       [4.5, 2.3, 1.3, 0.3],\n",
       "       [4.9, 2.5, 4.5, 1.7],\n",
       "       [5.6, 2.8, 4.9, 2.0],\n",
       "       [7.2, 3.2, 6.0, 1.8],\n",
       "       [6.7, 3.1, 4.7, 1.5],\n",
       "       [4.8, 3.1, 1.6, 0.2],\n",
       "       [6.7, 3.1, 4.4, 1.4],\n",
       "       [5.1, 3.8, 1.9, 0.4],\n",
       "       [5.2, 3.5, 1.5, 0.2],\n",
       "       [5.5, 2.4, 3.8, 1.1],\n",
       "       [5.7, 2.5, 5.0, 2.0],\n",
       "       [5.0, 3.4, 1.5, 0.2],\n",
       "       [6.8, 3.0, 5.5, 2.1],\n",
       "       [4.4, 2.9, 1.4, 0.2],\n",
       "       [6.1, 2.8, 4.7, 1.2],\n",
       "       [6.7, 3.3, 5.7, 2.5],\n",
       "       [7.7, 2.6, 6.9, 2.3],\n",
       "       [5.7, 2.8, 4.1, 1.3]], dtype=object)"
      ]
     },
     "execution_count": 21,
     "metadata": {},
     "output_type": "execute_result"
    }
   ],
   "source": [
    "x_train"
   ]
  },
  {
   "cell_type": "code",
   "execution_count": 22,
   "metadata": {},
   "outputs": [
    {
     "data": {
      "text/plain": [
       "array(['setosa', 'versicolor', 'versicolor', 'setosa', 'versicolor',\n",
       "       'setosa', 'setosa', 'virginica', 'setosa', 'virginica',\n",
       "       'virginica', 'versicolor', 'setosa', 'setosa', 'versicolor',\n",
       "       'virginica', 'versicolor', 'virginica', 'virginica', 'setosa',\n",
       "       'virginica', 'setosa', 'setosa', 'setosa', 'setosa', 'versicolor',\n",
       "       'versicolor', 'versicolor', 'versicolor', 'virginica',\n",
       "       'versicolor', 'virginica', 'virginica', 'versicolor', 'setosa',\n",
       "       'versicolor', 'setosa', 'versicolor', 'virginica', 'versicolor',\n",
       "       'virginica', 'versicolor', 'virginica', 'versicolor', 'versicolor',\n",
       "       'versicolor', 'virginica', 'versicolor', 'setosa', 'virginica',\n",
       "       'setosa', 'setosa', 'versicolor', 'setosa', 'setosa', 'virginica',\n",
       "       'versicolor', 'setosa', 'virginica', 'setosa', 'virginica',\n",
       "       'versicolor', 'setosa', 'setosa', 'virginica', 'versicolor',\n",
       "       'versicolor', 'setosa', 'setosa', 'virginica', 'versicolor',\n",
       "       'versicolor', 'setosa', 'versicolor', 'virginica', 'versicolor',\n",
       "       'setosa', 'versicolor', 'virginica', 'virginica', 'virginica',\n",
       "       'virginica', 'setosa', 'setosa', 'versicolor', 'virginica',\n",
       "       'setosa', 'versicolor', 'setosa', 'setosa', 'virginica',\n",
       "       'versicolor', 'virginica', 'setosa', 'virginica', 'setosa',\n",
       "       'virginica', 'setosa', 'versicolor', 'setosa', 'virginica',\n",
       "       'virginica', 'setosa', 'virginica', 'virginica', 'virginica',\n",
       "       'versicolor', 'setosa', 'versicolor', 'setosa', 'setosa',\n",
       "       'versicolor', 'virginica', 'setosa', 'virginica', 'setosa',\n",
       "       'versicolor', 'virginica', 'virginica', 'versicolor'], dtype=object)"
      ]
     },
     "execution_count": 22,
     "metadata": {},
     "output_type": "execute_result"
    }
   ],
   "source": [
    "y_train"
   ]
  },
  {
   "cell_type": "code",
   "execution_count": 23,
   "metadata": {},
   "outputs": [
    {
     "data": {
      "text/plain": [
       "array([[5.8, 2.7, 3.9, 1.2],\n",
       "       [6.1, 2.6, 5.6, 1.4],\n",
       "       [5.8, 2.8, 5.1, 2.4],\n",
       "       [4.4, 3.2, 1.3, 0.2],\n",
       "       [7.2, 3.6, 6.1, 2.5],\n",
       "       [4.9, 2.4, 3.3, 1.0],\n",
       "       [4.9, 3.0, 1.4, 0.2],\n",
       "       [5.9, 3.2, 4.8, 1.8],\n",
       "       [5.0, 3.0, 1.6, 0.2],\n",
       "       [5.4, 3.0, 4.5, 1.5],\n",
       "       [5.6, 3.0, 4.5, 1.5],\n",
       "       [6.3, 2.8, 5.1, 1.5],\n",
       "       [7.1, 3.0, 5.9, 2.1],\n",
       "       [7.3, 2.9, 6.3, 1.8],\n",
       "       [5.0, 3.4, 1.6, 0.4],\n",
       "       [5.1, 3.3, 1.7, 0.5],\n",
       "       [6.3, 2.7, 4.9, 1.8],\n",
       "       [7.4, 2.8, 6.1, 1.9],\n",
       "       [5.1, 3.7, 1.5, 0.4],\n",
       "       [4.8, 3.0, 1.4, 0.1],\n",
       "       [6.1, 2.8, 4.0, 1.3],\n",
       "       [6.4, 2.8, 5.6, 2.1],\n",
       "       [5.3, 3.7, 1.5, 0.2],\n",
       "       [6.3, 2.5, 4.9, 1.5],\n",
       "       [5.6, 3.0, 4.1, 1.3],\n",
       "       [6.2, 3.4, 5.4, 2.3],\n",
       "       [6.4, 2.9, 4.3, 1.3],\n",
       "       [5.7, 2.9, 4.2, 1.3],\n",
       "       [6.1, 2.9, 4.7, 1.4],\n",
       "       [6.4, 2.8, 5.6, 2.2]], dtype=object)"
      ]
     },
     "execution_count": 23,
     "metadata": {},
     "output_type": "execute_result"
    }
   ],
   "source": [
    "x_test"
   ]
  },
  {
   "cell_type": "code",
   "execution_count": 24,
   "metadata": {},
   "outputs": [
    {
     "data": {
      "text/plain": [
       "array(['versicolor', 'virginica', 'virginica', 'setosa', 'virginica',\n",
       "       'versicolor', 'setosa', 'versicolor', 'setosa', 'versicolor',\n",
       "       'versicolor', 'virginica', 'virginica', 'virginica', 'setosa',\n",
       "       'setosa', 'virginica', 'virginica', 'setosa', 'setosa',\n",
       "       'versicolor', 'virginica', 'setosa', 'versicolor', 'versicolor',\n",
       "       'virginica', 'versicolor', 'versicolor', 'versicolor', 'virginica'],\n",
       "      dtype=object)"
      ]
     },
     "execution_count": 24,
     "metadata": {},
     "output_type": "execute_result"
    }
   ],
   "source": [
    "y_test"
   ]
  },
  {
   "cell_type": "markdown",
   "metadata": {},
   "source": [
    "## Logistic Regression Model"
   ]
  },
  {
   "cell_type": "code",
   "execution_count": 25,
   "metadata": {},
   "outputs": [],
   "source": [
    "from sklearn.linear_model import LogisticRegression\n",
    "from sklearn.metrics import classification_report , confusion_matrix"
   ]
  },
  {
   "cell_type": "code",
   "execution_count": 26,
   "metadata": {},
   "outputs": [
    {
     "name": "stderr",
     "output_type": "stream",
     "text": [
      "C:\\Users\\starinfo\\anaconda3\\lib\\site-packages\\sklearn\\linear_model\\_logistic.py:763: ConvergenceWarning: lbfgs failed to converge (status=1):\n",
      "STOP: TOTAL NO. of ITERATIONS REACHED LIMIT.\n",
      "\n",
      "Increase the number of iterations (max_iter) or scale the data as shown in:\n",
      "    https://scikit-learn.org/stable/modules/preprocessing.html\n",
      "Please also refer to the documentation for alternative solver options:\n",
      "    https://scikit-learn.org/stable/modules/linear_model.html#logistic-regression\n",
      "  n_iter_i = _check_optimize_result(\n"
     ]
    },
    {
     "data": {
      "text/plain": [
       "LogisticRegression(random_state=0)"
      ]
     },
     "execution_count": 26,
     "metadata": {},
     "output_type": "execute_result"
    }
   ],
   "source": [
    "logistic_model = LogisticRegression(random_state = 0)\n",
    "logistic_model.fit(x_train, y_train)"
   ]
  },
  {
   "cell_type": "code",
   "execution_count": 27,
   "metadata": {},
   "outputs": [
    {
     "data": {
      "text/plain": [
       "array(['versicolor', 'virginica', 'virginica', 'setosa', 'virginica',\n",
       "       'versicolor', 'setosa', 'virginica', 'setosa', 'versicolor',\n",
       "       'versicolor', 'virginica', 'virginica', 'virginica', 'setosa',\n",
       "       'setosa', 'virginica', 'virginica', 'setosa', 'setosa',\n",
       "       'versicolor', 'virginica', 'setosa', 'versicolor', 'versicolor',\n",
       "       'virginica', 'versicolor', 'versicolor', 'versicolor', 'virginica'],\n",
       "      dtype=object)"
      ]
     },
     "execution_count": 27,
     "metadata": {},
     "output_type": "execute_result"
    }
   ],
   "source": [
    "y_predict =logistic_model.predict(x_test)\n",
    "y_predict"
   ]
  },
  {
   "cell_type": "code",
   "execution_count": 28,
   "metadata": {},
   "outputs": [],
   "source": [
    "cm = confusion_matrix(y_test,y_predict)"
   ]
  },
  {
   "cell_type": "code",
   "execution_count": 29,
   "metadata": {},
   "outputs": [
    {
     "data": {
      "text/plain": [
       "<AxesSubplot:>"
      ]
     },
     "execution_count": 29,
     "metadata": {},
     "output_type": "execute_result"
    },
    {
     "data": {
      "image/png": "[encoded data removed]",
      "text/plain": [
       "<Figure size 432x288 with 2 Axes>"
      ]
     },
     "metadata": {
      "needs_background": "light"
     },
     "output_type": "display_data"
    }
   ],
   "source": [
    "sns.heatmap(cm ,annot=True)"
   ]
  },
  {
   "cell_type": "code",
   "execution_count": 30,
   "metadata": {},
   "outputs": [
    {
     "name": "stdout",
     "output_type": "stream",
     "text": [
      "              precision    recall  f1-score   support\n",
      "\n",
      "      setosa       1.00      1.00      1.00         8\n",
      "  versicolor       1.00      0.91      0.95        11\n",
      "   virginica       0.92      1.00      0.96        11\n",
      "\n",
      "    accuracy                           0.97        30\n",
      "   macro avg       0.97      0.97      0.97        30\n",
      "weighted avg       0.97      0.97      0.97        30\n",
      "\n"
     ]
    }
   ],
   "source": [
    "print(classification_report(y_test,y_predict))"
   ]
  },
  {
   "cell_type": "code",
   "execution_count": 31,
   "metadata": {},
   "outputs": [
    {
     "name": "stdout",
     "output_type": "stream",
     "text": [
      "accuracy : 0.9666666666666667\n"
     ]
    }
   ],
   "source": [
    "print(\"accuracy :\" , logistic_model.score(x_test,y_test))"
   ]
  },
  {
   "cell_type": "code",
   "execution_count": 32,
   "metadata": {},
   "outputs": [],
   "source": [
    "# Individual Prediction\n",
    "mysample = np.array([4.9,3.0,1.4,0.2])\n",
    "ex1 = mysample.reshape(1,-1)\n",
    "#Reshape your data either using array.reshape(-1, 1) if your data has a single feature or array.reshape(1, -1) if it contains a single sample."
   ]
  },
  {
   "cell_type": "code",
   "execution_count": 33,
   "metadata": {},
   "outputs": [
    {
     "data": {
      "text/plain": [
       "array(['setosa'], dtype=object)"
      ]
     },
     "execution_count": 33,
     "metadata": {},
     "output_type": "execute_result"
    }
   ],
   "source": [
    "logistic_model.predict(ex1)"
   ]
  },
  {
   "cell_type": "code",
   "execution_count": 35,
   "metadata": {},
   "outputs": [
    {
     "name": "stdout",
     "output_type": "stream",
     "text": [
      "Requirement already satisfied: joblib in c:\\users\\starinfo\\anaconda3\\lib\\site-packages (1.0.1)\n",
      "Note: you may need to restart the kernel to use updated packages.\n"
     ]
    }
   ],
   "source": [
    "pip install joblib"
   ]
  },
  {
   "cell_type": "code",
   "execution_count": 36,
   "metadata": {},
   "outputs": [
    {
     "ename": "ImportError",
     "evalue": "cannot import name 'joblib' from 'sklearn.externals' (C:\\Users\\starinfo\\anaconda3\\lib\\site-packages\\sklearn\\externals\\__init__.py)",
     "output_type": "error",
     "traceback": [
      "\u001b[1;31m---------------------------------------------------------------------------\u001b[0m",
      "\u001b[1;31mImportError\u001b[0m                               Traceback (most recent call last)",
      "\u001b[1;32m<ipython-input-36-65ab2408face>\u001b[0m in \u001b[0;36m<module>\u001b[1;34m\u001b[0m\n\u001b[1;32m----> 1\u001b[1;33m \u001b[1;32mfrom\u001b[0m \u001b[0msklearn\u001b[0m\u001b[1;33m.\u001b[0m\u001b[0mexternals\u001b[0m \u001b[1;32mimport\u001b[0m \u001b[0mjoblib\u001b[0m\u001b[1;33m\u001b[0m\u001b[1;33m\u001b[0m\u001b[0m\n\u001b[0m\u001b[0;32m      2\u001b[0m \u001b[0mjoblib\u001b[0m\u001b[1;33m.\u001b[0m\u001b[0mdump\u001b[0m\u001b[1;33m(\u001b[0m\u001b[0mlogistic_model\u001b[0m\u001b[1;33m,\u001b[0m \u001b[1;34m'logit_model_iris.pkl'\u001b[0m\u001b[1;33m)\u001b[0m\u001b[1;33m\u001b[0m\u001b[1;33m\u001b[0m\u001b[0m\n",
      "\u001b[1;31mImportError\u001b[0m: cannot import name 'joblib' from 'sklearn.externals' (C:\\Users\\starinfo\\anaconda3\\lib\\site-packages\\sklearn\\externals\\__init__.py)"
     ]
    }
   ],
   "source": [
    "from sklearn.externals import joblib\n",
    "joblib.dump(logistic_model, 'logit_model_iris.pkl') "
   ]
  },
  {
   "cell_type": "code",
   "execution_count": null,
   "metadata": {},
   "outputs": [],
   "source": [
    "import pickle\n",
    "# save the model to disk\n",
    "filename = 'finalized_model.sav'\n",
    "pickle.dump(logistic_model, open(filename, 'wb'))\n",
    "\n",
    "# some time later...\n",
    "\n",
    "# load the model from disk\n",
    "loaded_model = pickle.load(open(filename, 'rb'))\n",
    "result = loaded_model.score(x_test, y_test)"
   ]
  },
  {
   "cell_type": "code",
   "execution_count": null,
   "metadata": {},
   "outputs": [],
   "source": [
    "ex2 = np.array([6.2,3.4,5.4,2.3]).reshape(1,-1)"
   ]
  },
  {
   "cell_type": "code",
   "execution_count": null,
   "metadata": {},
   "outputs": [],
   "source": [
    "logistic_model.predict(ex2)"
   ]
  },
  {
   "cell_type": "markdown",
   "metadata": {},
   "source": [
    "## KNN, Descision Tree and SVM models"
   ]
  },
  {
   "cell_type": "code",
   "execution_count": null,
   "metadata": {},
   "outputs": [],
   "source": [
    "from sklearn.tree import DecisionTreeClassifier\n",
    "from sklearn.neighbors import KNeighborsClassifier\n",
    "from sklearn.discriminant_analysis import LinearDiscriminantAnalysis\n",
    "from sklearn.naive_bayes import GaussianNB\n",
    "from sklearn.svm import SVC"
   ]
  },
  {
   "cell_type": "code",
   "execution_count": null,
   "metadata": {},
   "outputs": [],
   "source": [
    "knn = KNeighborsClassifier()\n",
    "dtree = DecisionTreeClassifier()\n",
    "svm = SVC() "
   ]
  },
  {
   "cell_type": "code",
   "execution_count": null,
   "metadata": {},
   "outputs": [],
   "source": [
    "# Fit the model\n",
    "knn_model = KNeighborsClassifier(n_neighbors = 5, metric = 'minkowski', p = 2)\n",
    "knn_model.fit(x_train, y_train)\n",
    "y_pred = knn.predict(x_test)\n",
    "print(\"accuracy :\" , knn.score(x_test,y_test))"
   ]
  },
  {
   "cell_type": "code",
   "execution_count": null,
   "metadata": {},
   "outputs": [],
   "source": [
    "k = 5\n",
    "\n",
    "neigh6 = KNeighborsClassifier(n_neighbors = k).fit(x_train,y_train)\n",
    "\n",
    "yhat6 = neigh6.predict(x_test)\n",
    "\n",
    "print(\"Train set Accuracy: \", metrics.accuracy_score(y_train, neigh6.predict(x_train)))\n",
    "print(\"Test set Accuracy: \", metrics.accuracy_score(y_test, yhat6))"
   ]
  },
  {
   "cell_type": "code",
   "execution_count": null,
   "metadata": {},
   "outputs": [],
   "source": [
    "Ks = 10\n",
    "mean_acc = np.zeros((Ks-1))\n",
    "std_acc = np.zeros((Ks-1))\n",
    "ConfustionMx = [];\n",
    "for n in range(1,Ks):\n",
    "    \n",
    "    #Train Model and Predict  \n",
    "    neigh = KNeighborsClassifier(n_neighbors = n).fit(x_train,y_train)\n",
    "    yhat=neigh.predict(x_test)\n",
    "    mean_acc[n-1] = metrics.accuracy_score(y_test, yhat)\n",
    "\n",
    "    \n",
    "    std_acc[n-1]=np.std(yhat==y_test)/np.sqrt(yhat.shape[0])\n",
    "\n",
    "mean_acc"
   ]
  },
  {
   "cell_type": "code",
   "execution_count": null,
   "metadata": {},
   "outputs": [],
   "source": [
    "plt.plot(range(1,Ks),mean_acc,'g')\n",
    "plt.fill_between(range(1,Ks),mean_acc - 1 * std_acc,mean_acc + 1 * std_acc, alpha=0.10)\n",
    "plt.legend(('Accuracy ', '+/- 3xstd'))\n",
    "plt.ylabel('Accuracy ')\n",
    "plt.xlabel('Number of Nabors (K)')\n",
    "plt.tight_layout()\n",
    "plt.show()"
   ]
  },
  {
   "cell_type": "code",
   "execution_count": null,
   "metadata": {},
   "outputs": [],
   "source": [
    "print( \"The best accuracy was with\", mean_acc.max(), \"with k=\", mean_acc.argmax()+1)"
   ]
  },
  {
   "cell_type": "code",
   "execution_count": null,
   "metadata": {},
   "outputs": [],
   "source": [
    "k = 8\n",
    "\n",
    "neigh6 = KNeighborsClassifier(n_neighbors = k).fit(x_train,y_train)\n",
    "\n",
    "yhat6 = neigh6.predict(x_test)\n",
    "\n",
    "print(\"Train set Accuracy: \", metrics.accuracy_score(y_train, neigh6.predict(x_train)))\n",
    "print(\"Test set Accuracy: \", metrics.accuracy_score(y_test, yhat6))"
   ]
  },
  {
   "cell_type": "code",
   "execution_count": null,
   "metadata": {},
   "outputs": [],
   "source": [
    "# save the model to disk\n",
    "joblib.dump(knn, 'knn_model_iris.pkl') "
   ]
  },
  {
   "cell_type": "code",
   "execution_count": null,
   "metadata": {},
   "outputs": [],
   "source": [
    "dtree.fit(x_train, y_train)\n",
    "print(\"accuracy :\" , dtree.score(x_test,y_test))"
   ]
  },
  {
   "cell_type": "code",
   "execution_count": null,
   "metadata": {},
   "outputs": [],
   "source": [
    "# save the model to disk\n",
    "joblib.dump(dtree, 'dtree_model_iris.pkl') "
   ]
  },
  {
   "cell_type": "code",
   "execution_count": null,
   "metadata": {},
   "outputs": [],
   "source": [
    "svm.fit(x_train, y_train)\n",
    "print(\"accuracy :\" , svm.score(x_test,y_test))"
   ]
  },
  {
   "cell_type": "code",
   "execution_count": null,
   "metadata": {},
   "outputs": [],
   "source": [
    "# save the model to disk\n",
    "joblib.dump(svm, 'svm_model_iris.pkl') "
   ]
  },
  {
   "cell_type": "code",
   "execution_count": 37,
   "metadata": {},
   "outputs": [
    {
     "name": "stdout",
     "output_type": "stream",
     "text": [
      "Requirement already satisfied: flask in c:\\users\\starinfo\\anaconda3\\lib\\site-packages (1.1.2)\n",
      "Requirement already satisfied: Jinja2>=2.10.1 in c:\\users\\starinfo\\anaconda3\\lib\\site-packages (from flask) (2.11.3)\n",
      "Requirement already satisfied: itsdangerous>=0.24 in c:\\users\\starinfo\\anaconda3\\lib\\site-packages (from flask) (1.1.0)\n",
      "Requirement already satisfied: click>=5.1 in c:\\users\\starinfo\\anaconda3\\lib\\site-packages (from flask) (7.1.2)\n",
      "Requirement already satisfied: Werkzeug>=0.15 in c:\\users\\starinfo\\anaconda3\\lib\\site-packages (from flask) (1.0.1)\n",
      "Requirement already satisfied: MarkupSafe>=0.23 in c:\\users\\starinfo\\anaconda3\\lib\\site-packages (from Jinja2>=2.10.1->flask) (1.1.1)\n",
      "Note: you may need to restart the kernel to use updated packages.\n"
     ]
    }
   ],
   "source": [
    "pip install flask"
   ]
  },
  {
   "cell_type": "code",
   "execution_count": null,
   "metadata": {},
   "outputs": [],
   "source": []
  }
 ],
 "metadata": {
  "kernelspec": {
   "display_name": "Python 3",
   "language": "python",
   "name": "python3"
  },
  "language_info": {
   "codemirror_mode": {
    "name": "ipython",
    "version": 3
   },
   "file_extension": ".py",
   "mimetype": "text/x-python",
   "name": "python",
   "nbconvert_exporter": "python",
   "pygments_lexer": "ipython3",
   "version": "3.8.8"
  }
 },
 "nbformat": 4,
 "nbformat_minor": 4
}
